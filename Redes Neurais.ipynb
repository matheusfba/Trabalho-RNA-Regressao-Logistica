{
 "cells": [
  {
   "cell_type": "code",
   "execution_count": 26,
   "metadata": {},
   "outputs": [],
   "source": [
    "import time\n",
    "import pandas as pd\n",
    "import numpy as np\n",
    "import matplotlib.pyplot as plt\n",
    "from sklearn import model_selection\n",
    "from sklearn.preprocessing import MinMaxScaler\n",
    "from sklearn.preprocessing import StandardScaler\n",
    "from keras.models import Sequential, Model\n",
    "from keras.layers.core import Dense, Activation\n",
    "from keras.layers import Input, Dropout\n",
    "from keras import optimizers\n",
    "\n",
    "%matplotlib inline"
   ]
  },
  {
   "cell_type": "code",
   "execution_count": 27,
   "metadata": {},
   "outputs": [],
   "source": [
    "train = pd.read_csv(\"sales_train_v2.csv\")\n",
    "test = pd.read_csv(\"test.csv\")\n",
    "submission = pd.read_csv('sample_submission.csv')\n",
    "items = pd.read_csv('items.csv')\n",
    "item_cats = pd.read_csv('item_categories.csv')\n",
    "shops = pd.read_csv('shops.csv')"
   ]
  },
  {
   "cell_type": "code",
   "execution_count": 29,
   "metadata": {},
   "outputs": [],
   "source": [
    "#Peguei uma amostra pequena pra não demorar tanto\n",
    "train = train.sample(frac=0.05, replace=False)\n",
    "\n",
    "#Adicionando colunas de mês e ano para fazer agrupamento de compras por mês\n",
    "train['date'] = pd.to_datetime(train['date'])\n",
    "train['year'] = train['date'].dt.year\n",
    "train['month'] = train['date'].dt.month\n",
    "train = train.drop(['item_price','date'],1)\n",
    "\n",
    "#Adicionando categoria do produto\n",
    "sales = train.merge(items, left_on='item_id', right_on='item_id', how='inner')\n",
    "sales = sales.drop('item_name',1)\n",
    "sales.head(2)"
   ]
  },
  {
   "cell_type": "code",
   "execution_count": 31,
   "metadata": {},
   "outputs": [],
   "source": [
    "#Agrupar vendas por mês, tirar a média e colocar no dataset principal\n",
    "\n",
    "sales = train.groupby([c for c in train.columns if c not in ['item_cnt_day']], as_index=False)[['item_cnt_day']].sum()\n",
    "sales = sales.rename(columns={'item_cnt_day':'item_cnt_month'})\n",
    "\n",
    "month_mean = sales[['shop_id','item_id','item_cnt_month']].groupby(['shop_id','item_id'], as_index=False).mean()\n",
    "month_mean = month_mean.rename(columns={'item_cnt_month':'item_cnt_month_mean'})\n",
    "\n",
    "sales = pd.merge(sales, month_mean, how='left', on=['shop_id','item_id'])\n",
    "sales.head()"
   ]
  },
  {
   "cell_type": "code",
   "execution_count": 34,
   "metadata": {},
   "outputs": [
    {
     "data": {
      "text/html": [
       "<div>\n",
       "<style scoped>\n",
       "    .dataframe tbody tr th:only-of-type {\n",
       "        vertical-align: middle;\n",
       "    }\n",
       "\n",
       "    .dataframe tbody tr th {\n",
       "        vertical-align: top;\n",
       "    }\n",
       "\n",
       "    .dataframe thead th {\n",
       "        text-align: right;\n",
       "    }\n",
       "</style>\n",
       "<table border=\"1\" class=\"dataframe\">\n",
       "  <thead>\n",
       "    <tr style=\"text-align: right;\">\n",
       "      <th></th>\n",
       "      <th>ID</th>\n",
       "      <th>shop_id</th>\n",
       "      <th>item_id</th>\n",
       "      <th>month</th>\n",
       "      <th>year</th>\n",
       "      <th>date_block_num</th>\n",
       "      <th>item_cnt_month_mean</th>\n",
       "      <th>item_cnt_month</th>\n",
       "    </tr>\n",
       "  </thead>\n",
       "  <tbody>\n",
       "    <tr>\n",
       "      <th>0</th>\n",
       "      <td>0</td>\n",
       "      <td>5</td>\n",
       "      <td>5037</td>\n",
       "      <td>11</td>\n",
       "      <td>2015</td>\n",
       "      <td>34</td>\n",
       "      <td>0.0</td>\n",
       "      <td>0.0</td>\n",
       "    </tr>\n",
       "    <tr>\n",
       "      <th>1</th>\n",
       "      <td>1</td>\n",
       "      <td>5</td>\n",
       "      <td>5320</td>\n",
       "      <td>11</td>\n",
       "      <td>2015</td>\n",
       "      <td>34</td>\n",
       "      <td>0.0</td>\n",
       "      <td>0.0</td>\n",
       "    </tr>\n",
       "    <tr>\n",
       "      <th>2</th>\n",
       "      <td>2</td>\n",
       "      <td>5</td>\n",
       "      <td>5233</td>\n",
       "      <td>11</td>\n",
       "      <td>2015</td>\n",
       "      <td>34</td>\n",
       "      <td>1.0</td>\n",
       "      <td>0.0</td>\n",
       "    </tr>\n",
       "    <tr>\n",
       "      <th>3</th>\n",
       "      <td>3</td>\n",
       "      <td>5</td>\n",
       "      <td>5232</td>\n",
       "      <td>11</td>\n",
       "      <td>2015</td>\n",
       "      <td>34</td>\n",
       "      <td>0.0</td>\n",
       "      <td>0.0</td>\n",
       "    </tr>\n",
       "    <tr>\n",
       "      <th>4</th>\n",
       "      <td>4</td>\n",
       "      <td>5</td>\n",
       "      <td>5268</td>\n",
       "      <td>11</td>\n",
       "      <td>2015</td>\n",
       "      <td>34</td>\n",
       "      <td>0.0</td>\n",
       "      <td>0.0</td>\n",
       "    </tr>\n",
       "  </tbody>\n",
       "</table>\n",
       "</div>"
      ],
      "text/plain": [
       "   ID  shop_id  item_id  month  year  date_block_num  item_cnt_month_mean  \\\n",
       "0   0        5     5037     11  2015              34                  0.0   \n",
       "1   1        5     5320     11  2015              34                  0.0   \n",
       "2   2        5     5233     11  2015              34                  1.0   \n",
       "3   3        5     5232     11  2015              34                  0.0   \n",
       "4   4        5     5268     11  2015              34                  0.0   \n",
       "\n",
       "   item_cnt_month  \n",
       "0             0.0  \n",
       "1             0.0  \n",
       "2             0.0  \n",
       "3             0.0  \n",
       "4             0.0  "
      ]
     },
     "execution_count": 34,
     "metadata": {},
     "output_type": "execute_result"
    }
   ],
   "source": [
    "test['month'] = 11\n",
    "test['year'] = 2015\n",
    "test['date_block_num'] = 34\n",
    "#Add Mean Feature\n",
    "test = pd.merge(test, month_mean, how='left', on=['shop_id','item_id']).fillna(0.)\n",
    "#Items features\n",
    "test['item_cnt_month'] = 0."
   ]
  },
  {
   "cell_type": "code",
   "execution_count": 35,
   "metadata": {},
   "outputs": [
    {
     "data": {
      "text/html": [
       "<div>\n",
       "<style scoped>\n",
       "    .dataframe tbody tr th:only-of-type {\n",
       "        vertical-align: middle;\n",
       "    }\n",
       "\n",
       "    .dataframe tbody tr th {\n",
       "        vertical-align: top;\n",
       "    }\n",
       "\n",
       "    .dataframe thead th {\n",
       "        text-align: right;\n",
       "    }\n",
       "</style>\n",
       "<table border=\"1\" class=\"dataframe\">\n",
       "  <thead>\n",
       "    <tr style=\"text-align: right;\">\n",
       "      <th></th>\n",
       "      <th>date_block_num</th>\n",
       "      <th>shop_id</th>\n",
       "      <th>item_id</th>\n",
       "      <th>year</th>\n",
       "      <th>month</th>\n",
       "      <th>item_cnt_month</th>\n",
       "      <th>item_cnt_month_mean</th>\n",
       "    </tr>\n",
       "  </thead>\n",
       "  <tbody>\n",
       "    <tr>\n",
       "      <th>0</th>\n",
       "      <td>34</td>\n",
       "      <td>5</td>\n",
       "      <td>5037</td>\n",
       "      <td>2015</td>\n",
       "      <td>11</td>\n",
       "      <td>0.0</td>\n",
       "      <td>0.0</td>\n",
       "    </tr>\n",
       "    <tr>\n",
       "      <th>1</th>\n",
       "      <td>34</td>\n",
       "      <td>5</td>\n",
       "      <td>5320</td>\n",
       "      <td>2015</td>\n",
       "      <td>11</td>\n",
       "      <td>0.0</td>\n",
       "      <td>0.0</td>\n",
       "    </tr>\n",
       "    <tr>\n",
       "      <th>2</th>\n",
       "      <td>34</td>\n",
       "      <td>5</td>\n",
       "      <td>5233</td>\n",
       "      <td>2015</td>\n",
       "      <td>11</td>\n",
       "      <td>0.0</td>\n",
       "      <td>1.0</td>\n",
       "    </tr>\n",
       "    <tr>\n",
       "      <th>3</th>\n",
       "      <td>34</td>\n",
       "      <td>5</td>\n",
       "      <td>5232</td>\n",
       "      <td>2015</td>\n",
       "      <td>11</td>\n",
       "      <td>0.0</td>\n",
       "      <td>0.0</td>\n",
       "    </tr>\n",
       "    <tr>\n",
       "      <th>4</th>\n",
       "      <td>34</td>\n",
       "      <td>5</td>\n",
       "      <td>5268</td>\n",
       "      <td>2015</td>\n",
       "      <td>11</td>\n",
       "      <td>0.0</td>\n",
       "      <td>0.0</td>\n",
       "    </tr>\n",
       "  </tbody>\n",
       "</table>\n",
       "</div>"
      ],
      "text/plain": [
       "   date_block_num  shop_id  item_id  year  month  item_cnt_month  \\\n",
       "0              34        5     5037  2015     11             0.0   \n",
       "1              34        5     5320  2015     11             0.0   \n",
       "2              34        5     5233  2015     11             0.0   \n",
       "3              34        5     5232  2015     11             0.0   \n",
       "4              34        5     5268  2015     11             0.0   \n",
       "\n",
       "   item_cnt_month_mean  \n",
       "0                  0.0  \n",
       "1                  0.0  \n",
       "2                  1.0  \n",
       "3                  0.0  \n",
       "4                  0.0  "
      ]
     },
     "execution_count": 35,
     "metadata": {},
     "output_type": "execute_result"
    }
   ],
   "source": [
    "test = test[['date_block_num', 'shop_id', 'item_id', 'year', 'month','item_cnt_month', 'item_cnt_month_mean']]\n",
    "test.head()"
   ]
  },
  {
   "cell_type": "code",
   "execution_count": 55,
   "metadata": {},
   "outputs": [],
   "source": [
    "#Colocar os dados de treino na mesma escala para performance do modelo\n",
    "dados_valores = sales.values\n",
    "\n",
    "X = dados_valores[:,0:6]\n",
    "Y = dados_valores[:,6]\n",
    "\n",
    "sc = StandardScaler()\n",
    "X_scaled = sc.fit_transform(X)\n",
    "\n",
    "# Conjuntos de dados de treino e de teste\n",
    "X_treino, X_teste, Y_treino, Y_teste = model_selection.train_test_split(X_scaled, Y, test_size = 0.30, random_state = 7)"
   ]
  },
  {
   "cell_type": "code",
   "execution_count": 56,
   "metadata": {},
   "outputs": [],
   "source": [
    "def linear():\n",
    "    model = Sequential()\n",
    "    \n",
    "    model.add(Dense(4, input_dim=6, activation='relu'))\n",
    "    model.add(Dense(4, activation='relu'))\n",
    "    model.add(Dense(1, activation='linear'))\n",
    "    model.compile(loss='mse', optimizer='adam')\n",
    "    return model"
   ]
  },
  {
   "cell_type": "code",
   "execution_count": 57,
   "metadata": {},
   "outputs": [
    {
     "name": "stderr",
     "output_type": "stream",
     "text": [
      "C:\\Users\\mathe\\Anaconda3\\lib\\site-packages\\ipykernel_launcher.py:2: UserWarning: The `nb_epoch` argument in `fit` has been renamed `epochs`.\n",
      "  \n"
     ]
    },
    {
     "name": "stdout",
     "output_type": "stream",
     "text": [
      "Epoch 1/20\n",
      "99916/99916 [==============================] - 5s 50us/step - loss: 4.1543\n",
      "Epoch 2/20\n",
      "99916/99916 [==============================] - 4s 43us/step - loss: 3.1159\n",
      "Epoch 3/20\n",
      "99916/99916 [==============================] - 4s 43us/step - loss: 2.5467\n",
      "Epoch 4/20\n",
      "99916/99916 [==============================] - 5s 46us/step - loss: 2.1942\n",
      "Epoch 5/20\n",
      "99916/99916 [==============================] - 4s 44us/step - loss: 1.8555\n",
      "Epoch 6/20\n",
      "99916/99916 [==============================] - 4s 43us/step - loss: 1.6843\n",
      "Epoch 7/20\n",
      "99916/99916 [==============================] - 4s 40us/step - loss: 1.6414\n",
      "Epoch 8/20\n",
      "99916/99916 [==============================] - 5s 45us/step - loss: 1.6264\n",
      "Epoch 9/20\n",
      "99916/99916 [==============================] - 4s 42us/step - loss: 1.6189\n",
      "Epoch 10/20\n",
      "99916/99916 [==============================] - 4s 43us/step - loss: 1.6209\n",
      "Epoch 11/20\n",
      "99916/99916 [==============================] - 4s 40us/step - loss: 1.6176\n",
      "Epoch 12/20\n",
      "99916/99916 [==============================] - 5s 48us/step - loss: 1.6113\n",
      "Epoch 13/20\n",
      "99916/99916 [==============================] - 4s 36us/step - loss: 1.6113\n",
      "Epoch 14/20\n",
      "99916/99916 [==============================] - 4s 40us/step - loss: 1.6070\n",
      "Epoch 15/20\n",
      "99916/99916 [==============================] - 4s 44us/step - loss: 1.6123\n",
      "Epoch 16/20\n",
      "99916/99916 [==============================] - 4s 41us/step - loss: 1.6064\n",
      "Epoch 17/20\n",
      "99916/99916 [==============================] - 4s 41us/step - loss: 1.6039\n",
      "Epoch 18/20\n",
      "99916/99916 [==============================] - 4s 42us/step - loss: 1.6024\n",
      "Epoch 19/20\n",
      "99916/99916 [==============================] - 4s 44us/step - loss: 1.6008\n",
      "Epoch 20/20\n",
      "99916/99916 [==============================] - 4s 44us/step - loss: 1.5979\n"
     ]
    },
    {
     "data": {
      "text/plain": [
       "<keras.callbacks.History at 0x22dd4d12710>"
      ]
     },
     "execution_count": 57,
     "metadata": {},
     "output_type": "execute_result"
    }
   ],
   "source": [
    "model = linear()\n",
    "model.fit(X_treino, Y_treino, nb_epoch=20, batch_size=256,verbose=1)"
   ]
  },
  {
   "cell_type": "code",
   "execution_count": 60,
   "metadata": {},
   "outputs": [
    {
     "name": "stdout",
     "output_type": "stream",
     "text": [
      "X=[ 1.42545429  1.23580897 -1.37897524  1.59120622 -0.40288849 -0.10846762], Predicted=[1.0704131]\n"
     ]
    }
   ],
   "source": [
    "ynew = model.predict(X_teste)\n",
    "print(\"X=%s, Predicted=%s\" % (X_teste[0], ynew[0]))"
   ]
  }
 ],
 "metadata": {
  "kernelspec": {
   "display_name": "Python 3",
   "language": "python",
   "name": "python3"
  },
  "language_info": {
   "codemirror_mode": {
    "name": "ipython",
    "version": 3
   },
   "file_extension": ".py",
   "mimetype": "text/x-python",
   "name": "python",
   "nbconvert_exporter": "python",
   "pygments_lexer": "ipython3",
   "version": "3.5.5"
  },
  "widgets": {
   "state": {},
   "version": "1.1.2"
  }
 },
 "nbformat": 4,
 "nbformat_minor": 2
}
